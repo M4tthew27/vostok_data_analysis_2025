{
  "cells": [
    {
      "cell_type": "markdown",
      "id": "SjmUs8i3yH8O",
      "metadata": {
        "id": "SjmUs8i3yH8O"
      },
      "source": [
        "## Лекция 3. Доверительные интервалы и тестирование параметрических гипотез"
      ]
    },
    {
      "cell_type": "markdown",
      "id": "54772ba1-d472-40e0-9a9a-c1b19473102c",
      "metadata": {
        "id": "54772ba1-d472-40e0-9a9a-c1b19473102c"
      },
      "source": [
        "### Часть 1"
      ]
    },
    {
      "cell_type": "code",
      "execution_count": 1,
      "id": "b6387805",
      "metadata": {
        "id": "b6387805"
      },
      "outputs": [],
      "source": [
        "import scipy.stats as stats # импортируем библиотеку для статистических функций\n",
        "import pandas as pd # импортируем библиотеку pandas для обработки табличных данных\n",
        "import numpy as np # импортируем библиотеку numpy для реализации математических операций"
      ]
    },
    {
      "cell_type": "markdown",
      "id": "N42siRKSy2ES",
      "metadata": {
        "id": "N42siRKSy2ES"
      },
      "source": [
        "Наша задача -  научиться по выборкам делать выводы о параметрах генеральной совокупности.\n",
        "\n",
        "\n",
        "Проведем эксперимент: возьмем выборку объемом в 10, 20 и 30 чисел из нормальной генеральной совокупности с матожиданием, равным нулю, и стандартным отклонением, равным 1 (стандартный номальный закон $Z_i \\sim N(0;1) $).\n",
        "Если бы мы не знали, что это стандартный нормальный закон, то  для того, чтобы оценить, чему равно среднее для генеральной совокупности, нам надо было бы посчитать выборочное среднее по каждой из трех выборок."
      ]
    },
    {
      "cell_type": "code",
      "execution_count": 17,
      "id": "x8Y7dHUoZxC8",
      "metadata": {
        "colab": {
          "base_uri": "https://localhost:8080/"
        },
        "id": "x8Y7dHUoZxC8",
        "outputId": "5b851c9f-ac9c-413a-c3fb-9c098b1d7ef7"
      },
      "outputs": [
        {
          "name": "stdout",
          "output_type": "stream",
          "text": [
            "-0.09782029681892845\n",
            "-0.2859862948779878\n",
            "-0.18357245891199478\n",
            "-0.017264130403158353\n",
            "0.05229360687873961\n",
            "-0.006850611170508861\n"
          ]
        }
      ],
      "source": [
        "# Выборки 10, 20, 30 наблюдений:\n",
        "\n",
        "for i in range(3): # реализуем три итерации цикла\n",
        "      print(np.random.normal(size=(10*(i+1))).mean()) # на каждой берем выборку и считаем среднее\n",
        "\n",
        "# Выборки 1000, 2000, 3000 наблюдений:\n",
        "\n",
        "for i in range(3): # реализуем три итерации цикла\n",
        "      print(np.random.normal(size=(1000*(i+1))).mean()) # на каждой берем выборку и считаем среднее"
      ]
    },
    {
      "cell_type": "markdown",
      "id": "v03zdkWoaLvy",
      "metadata": {
        "id": "v03zdkWoaLvy"
      },
      "source": [
        "Все три раза они получились разными (не равными друг другу), и к тому же не равными настоящему среднему из генеральной совокупности (нулю).\n",
        "\n",
        "Выборочное среднее, которое мы три раза искали выше, называется \"точечной оценкой\" генерального среднего значения, и мы убедились в том, что такая оценка близка к оцениваемому параметру (обычно чем больше объем выборки, тем ближе), но никогда не равна ему. Это связано с тем, что выборочное среднее -- это случайная величина, которая сама имеет нормальное распределение, а для непрерывной случайной величины вероятность того, что она примет какое-то конкретное значение, равна нулю.\n",
        "\n",
        "Чтобы обойти эту проблему с точечными оценками, можно использовать \"интервальные\" оценки -- сообщать некоторый диапазон значений, который будет содержать оцениваемый параметр с нужной заранее известной вероятностью.\n",
        "\n",
        "Из курса статистики известно, что доверительный интервал, который с доверительной вероятностью $\\gamma$ накроет генеральное среднее, ищется по формуле $M \\pm \\varepsilon$ (в наших обозначениях $M = \\bar{X}$, то есть это выборочное среднее), а для нахождения  $\\varepsilon$ надо использовать одну из двух формул:\n",
        "\n",
        "1. Если нам известно стандартное отклонение генеральной совокупности $\\sigma$, то используем формулу $\\varepsilon = z_{\\alpha/2}\\cdot \\frac{\\sigma}{\\sqrt n}$, где $z_{\\alpha/2}$ отрезает от нормального распределения правый хвост объема $\\alpha/2$.\n",
        "\n",
        "2. Если же у нас нет генерального стандартного отклонения, то вместо $\\sigma$ надо использовать $s$  -- выборочное стандартное оклонение, а вместо $z_{\\alpha/2}$ используется $t_{\\alpha/2}$ -- это число отрезает от распределения Стьюдента правый хвост объема $\\alpha/2$, распределение используется с $n-1$ степенью свободы.\n",
        "\n",
        "Уровень доверия $\\gamma$ берется близким к 1 (0.9, 0.95, 0.99), а $\\alpha = 1 - \\gamma$\n",
        "\n"
      ]
    },
    {
      "cell_type": "markdown",
      "id": "MKZPz5wRIfUj",
      "metadata": {
        "id": "MKZPz5wRIfUj"
      },
      "source": [
        "Теперь посмотрим, как найти доверительный интервал с помощью встроенных методов питона.\n",
        "\n",
        "Предположим, мы хотим найти 95% доверительный интервал для средней оценки за контрольную работу по 9 студентам, если нам заранее известно, что стандартное отклонение  оценки за эту контрольную работу по всем студентам равно $1.5$."
      ]
    },
    {
      "cell_type": "code",
      "execution_count": 19,
      "id": "rD7_WemnaWur",
      "metadata": {
        "colab": {
          "base_uri": "https://localhost:8080/"
        },
        "id": "rD7_WemnaWur",
        "outputId": "d80ca681-0fa2-48f9-d15e-bdf506ec77df"
      },
      "outputs": [
        {
          "data": {
            "text/plain": [
              "(5.020018007729973, 6.979981992270027)"
            ]
          },
          "execution_count": 19,
          "metadata": {},
          "output_type": "execute_result"
        }
      ],
      "source": [
        "data1 = np.array([6, 7, 8, 4, 3, 6, 7, 8, 5])\n",
        "sigma = 1.5\n",
        "stats.norm.interval(0.95, loc=data1.mean(), scale=sigma/np.sqrt(len(data1)))\n",
        "# первый параметр это доверительная вероятность, второй - середина доверительного интервала,\n",
        "# третий - соответствующий множитель из формулы"
      ]
    },
    {
      "cell_type": "markdown",
      "id": "LGgmCjOyNEkc",
      "metadata": {
        "id": "LGgmCjOyNEkc"
      },
      "source": [
        "**Вывод:**\n",
        "\n",
        "- С доверительной вероятностью 95% интервал (5.02, 6.98) накрывает среднюю оценку за контрольную по всем студентам.\n",
        "\n",
        "или\n",
        "\n",
        "- С вероятностью 95% средняя оценка студентов находится в интервале (5.02, 6.98)"
      ]
    },
    {
      "cell_type": "markdown",
      "id": "mGZrQAX3Ndq4",
      "metadata": {
        "id": "mGZrQAX3Ndq4"
      },
      "source": [
        "Теперь сделаем все то же самое для второго типа доверительных интервалов, то есть в ситуации, когда у нас нет генерального стандартного отклонения (а скорее всего так и будет - довольно редко бывает так, что генеральное стандартное отклонение есть, а генерального среднего нет).\n",
        "\n",
        "Пусть у нас есть оценки за экзамен по 10 студентам, и мы снова хотим найти 95% доверительный интервал для средней оценки по всем студентам (генеральное стандартное отклонение мы не знаем)"
      ]
    },
    {
      "cell_type": "code",
      "execution_count": 25,
      "id": "Y9BckwP1aiCY",
      "metadata": {
        "colab": {
          "base_uri": "https://localhost:8080/"
        },
        "id": "Y9BckwP1aiCY",
        "outputId": "156d378e-7879-4013-e1b2-a464bd3ff096"
      },
      "outputs": [
        {
          "data": {
            "text/plain": [
              "(4.8750822292039375, 8.124917770796063)"
            ]
          },
          "execution_count": 25,
          "metadata": {},
          "output_type": "execute_result"
        }
      ],
      "source": [
        "data2 = np.array([6, 8, 5, 4, 7, 5, 8, 7, 6, 9])\n",
        "\n",
        "sigma = data2.std(ddof=1) # т.к это не генеральное стандартное отклонение, то делим не на n, а на n-1\n",
        "stats.t.interval(0.99, df=len(data2) - 1, loc=data2.mean(), scale=sigma/np.sqrt(len(data2)))\n",
        "# добавился новый параметр - это число степеней свободы, то есть n-1"
      ]
    },
    {
      "cell_type": "markdown",
      "id": "684fa022-0f27-42b2-a22d-bf7409334309",
      "metadata": {
        "id": "684fa022-0f27-42b2-a22d-bf7409334309"
      },
      "source": [
        "**Вывод:**\n",
        "\n",
        "- С доверительной вероятностью 95% интервал (5.37, 7.63) накрывает среднюю оценку за контрольную по всем студентам.\n",
        "\n",
        "или\n",
        "\n",
        "- С вероятностью 95% средняя оценка студентов находится в интервале (5.37, 7.63)"
      ]
    },
    {
      "cell_type": "markdown",
      "id": "QWiXsdswV2Fw",
      "metadata": {
        "id": "QWiXsdswV2Fw"
      },
      "source": [
        "Пример того, как ищутся критические точки $z_{\\alpha/2}$ и $t_{\\alpha/2}$ для 95% доверительных интервалов приведен ниже"
      ]
    },
    {
      "cell_type": "code",
      "execution_count": 18,
      "id": "dW2aW8_EV0xm",
      "metadata": {
        "id": "dW2aW8_EV0xm"
      },
      "outputs": [],
      "source": [
        "gamma = 0.95\n",
        "alpha = 1 - gamma"
      ]
    },
    {
      "cell_type": "code",
      "execution_count": 19,
      "id": "Wp_jYgig-lgH",
      "metadata": {
        "colab": {
          "base_uri": "https://localhost:8080/"
        },
        "id": "Wp_jYgig-lgH",
        "outputId": "d33c687a-d4d5-4b52-8fdf-7cb8001ec8bf"
      },
      "outputs": [
        {
          "data": {
            "text/plain": [
              "1.959963984540054"
            ]
          },
          "execution_count": 19,
          "metadata": {},
          "output_type": "execute_result"
        }
      ],
      "source": [
        "stats.norm.ppf(1 - alpha/2) # ppf  - функция процентных точек, находит квантиль указанного в скобках уровня"
      ]
    },
    {
      "cell_type": "code",
      "execution_count": 20,
      "id": "krlkbqfx-35O",
      "metadata": {
        "colab": {
          "base_uri": "https://localhost:8080/"
        },
        "id": "krlkbqfx-35O",
        "outputId": "dca8a7a4-ed3a-4e1c-9d30-699d279cdc4a"
      },
      "outputs": [
        {
          "data": {
            "text/plain": [
              "1.9623390808264074"
            ]
          },
          "execution_count": 20,
          "metadata": {},
          "output_type": "execute_result"
        }
      ],
      "source": [
        "stats.t.ppf(1 - alpha/2, df=1000) # число степеней свободы должно равняться n-1"
      ]
    },
    {
      "cell_type": "markdown",
      "id": "960e24b0-8bec-4044-99df-2c42bb75624f",
      "metadata": {
        "id": "960e24b0-8bec-4044-99df-2c42bb75624f"
      },
      "source": [
        "### B1"
      ]
    },
    {
      "cell_type": "markdown",
      "id": "ea044eca-3e5c-4679-818a-ba38f596dbac",
      "metadata": {
        "id": "ea044eca-3e5c-4679-818a-ba38f596dbac"
      },
      "source": [
        "Винни-Пух в течение 150 дней фиксировал изменения количества пчёл в улье. Он уверен, что полученные наблюдения являются выборкой независимых одинаково распределённых нормальных случайных величин. Оказалось, что среднее количество пчёл равно 25000, а выборочная дисперсия равна 1300. Постройте 95%-ый доверительный интервал для математического ожидания количества пчёл в улье, используя Z-оценку, и выпишите в ответ его нижнюю границу, округлённую до целого.\n",
        "\n",
        "Пример ответа: 1500"
      ]
    },
    {
      "cell_type": "markdown",
      "id": "c8129689-f21f-4d82-8bc6-716de37aedd4",
      "metadata": {
        "id": "c8129689-f21f-4d82-8bc6-716de37aedd4"
      },
      "source": [
        "**Вариант 1**\n",
        "\n",
        "$$\\varepsilon = z_{\\alpha/2}\\cdot \\frac{\\sigma}{\\sqrt n}$$"
      ]
    },
    {
      "cell_type": "code",
      "execution_count": 21,
      "id": "e07a0e82-c643-4f3d-9df8-689f22ebcc54",
      "metadata": {
        "id": "e07a0e82-c643-4f3d-9df8-689f22ebcc54",
        "outputId": "a4191fb6-5bdb-4f88-9003-c64c833f267e"
      },
      "outputs": [
        {
          "ename": "SyntaxError",
          "evalue": "invalid syntax (3785641820.py, line 3)",
          "output_type": "error",
          "traceback": [
            "\u001b[0;36m  File \u001b[0;32m\"/var/folders/1c/lnxbjb_177d8cf5hmlxdbv340000gn/T/ipykernel_61642/3785641820.py\"\u001b[0;36m, line \u001b[0;32m3\u001b[0m\n\u001b[0;31m    n = #размер выборки\u001b[0m\n\u001b[0m        ^\u001b[0m\n\u001b[0;31mSyntaxError\u001b[0m\u001b[0;31m:\u001b[0m invalid syntax\n"
          ]
        }
      ],
      "source": [
        "from scipy import stats\n",
        "\n",
        "n = #размер выборки\n",
        "sigma = #точечное стандартное отклонение\n",
        "avg = #среднее арифметическое\n",
        "gamma = #уровень доверия\n",
        "alpha = 1 - gamma\n",
        "z_cr = #z-критическое\n",
        "e = #эпселент\n",
        "left = #нижняя граница\n",
        "left"
      ]
    },
    {
      "cell_type": "markdown",
      "id": "c204b45f-53be-4b97-a14a-79142a7dc9c5",
      "metadata": {
        "id": "c204b45f-53be-4b97-a14a-79142a7dc9c5"
      },
      "source": [
        "**Вариант 2**"
      ]
    },
    {
      "cell_type": "code",
      "execution_count": 22,
      "id": "471786cb-ec5e-428d-a541-624ffd8640fe",
      "metadata": {
        "id": "471786cb-ec5e-428d-a541-624ffd8640fe"
      },
      "outputs": [
        {
          "ename": "SyntaxError",
          "evalue": "invalid syntax (2562877731.py, line 5)",
          "output_type": "error",
          "traceback": [
            "\u001b[0;36m  File \u001b[0;32m\"/var/folders/1c/lnxbjb_177d8cf5hmlxdbv340000gn/T/ipykernel_61642/2562877731.py\"\u001b[0;36m, line \u001b[0;32m5\u001b[0m\n\u001b[0;31m    scale=#ст.откл/np.sqrt(#размер выборки)\u001b[0m\n\u001b[0m         ^\u001b[0m\n\u001b[0;31mSyntaxError\u001b[0m\u001b[0;31m:\u001b[0m invalid syntax\n"
          ]
        }
      ],
      "source": [
        "from scipy import stats\n",
        "\n",
        "stats.norm.interval(#уровень доверия,\n",
        "                    loc=#среднее,\n",
        "                    scale=#ст.откл/np.sqrt(#размер выборки)\n",
        "                    )"
      ]
    },
    {
      "cell_type": "markdown",
      "id": "JJyNdpldXojL",
      "metadata": {
        "id": "JJyNdpldXojL"
      },
      "source": [
        "### Часть 2. Семинар 10"
      ]
    },
    {
      "cell_type": "markdown",
      "id": "d3edede7",
      "metadata": {
        "id": "d3edede7"
      },
      "source": [
        "# Параметрические критерии для тестирования гипотез\n",
        "Выше мы вспомнили, как искать интервальные оценки для среднего в генеральной совокупности, теперь мы подойдем к задаче оценки параметров генеральной совокупности с новой стороны. Речь все так же будет идти о генеральном среднем.\n",
        "\n",
        "Предположим, у нас есть все та же контрольная, о которой мы говорили в первом примере, и до контрольной у нас есть четыре предположения о том, насколько сложной будет работа: кто-то считает, что средний балл будет равен 4.2, кто-то считает что 4.9, еще есть вариант 6.2 и вариант 7.4.\n",
        "\n",
        "Мы строили 95% доверительный интервал, который оказался равен (5.02; 6.98) -- мы на 95% уверены, что этот интервал содержит среднюю оценку по всем студентам, это означает, что предположение о том, что средняя оценка равна 6.2 не противоречит нашим реальным данным, а оставшиеся три, которые не попадают в интервал, следует поставить под сомнение.\n",
        "\n",
        "Примерно так и будет проходить проверка гипотез: у нас есть \"нулевая\" или \"основная\" гипотеза - предположение о среднем значении интересующего нас признака. По  имеющейся случайной выборке мы считаем число, которое называется \"статистикой\". Если предположение нулевой гипотезы верное, то статистика имеет известное распределение, и можно понять, насколько полученное число соответствует этому распределению. Например, для стандартного нормального закона значение -0.2 не вызывает никаких вопросов, а 4.5 вызывает -- если мы увидим такое число, то возможны два варианта: либо произошло очень маловероятное событие, либо мы неправильно предположили, что работаем со стандартным нормальным законом.\n",
        "\n",
        "Для того, чтобы отделить критические значения статистики от естественных, задается малая вероятность $\\alpha$ (уровень значимости). Это вероятность ошибки первого рода, то есть того, что мы посчитаем нулевую гипотезу неверной, хотя на самом деле она будет верной."
      ]
    },
    {
      "cell_type": "markdown",
      "id": "f9697384-e24b-4393-a09d-d3b42d59cab4",
      "metadata": {
        "id": "f9697384-e24b-4393-a09d-d3b42d59cab4"
      },
      "source": [
        "#### **Z-статистика**"
      ]
    },
    {
      "cell_type": "markdown",
      "id": "9c8e0141-6291-4472-80be-1d475465b470",
      "metadata": {
        "id": "9c8e0141-6291-4472-80be-1d475465b470"
      },
      "source": [
        "**Ограничения:**\n",
        "\n",
        "- исходные данные имеют нормальное распределение\n",
        "- известна дисперсия генеральной совокупности"
      ]
    },
    {
      "cell_type": "markdown",
      "id": "203c1ef3-b2e7-4bd2-8c5d-cd800032353f",
      "metadata": {
        "id": "203c1ef3-b2e7-4bd2-8c5d-cd800032353f"
      },
      "source": [
        "Вы спросили 100 своих сокурсников: Сколько в среднем они спят? На основе этих данных нужно проверить гипотезу о том, что люди в среднем спят 7 часов, если известно, что стандартное отклонение равно 1"
      ]
    },
    {
      "cell_type": "code",
      "execution_count": 39,
      "id": "4c6c12a8-83db-4821-befc-b2e44afaa193",
      "metadata": {
        "id": "4c6c12a8-83db-4821-befc-b2e44afaa193",
        "outputId": "08529fc5-b97c-4b9b-df41-0dd30df72f16"
      },
      "outputs": [
        {
          "data": {
            "text/plain": [
              "array([6.14898637, 8.36042478, 8.54434563, 6.19085694, 9.72577361,\n",
              "       8.28897371, 6.70438669, 7.33327354, 9.04477857, 6.93454557,\n",
              "       6.53910074, 6.31390947, 6.28801397, 7.58810384, 5.464691  ,\n",
              "       8.34321567, 7.75412187, 8.35598955, 8.40717163, 5.35286566,\n",
              "       8.35232123, 7.67687232, 7.14810569, 6.44947628, 9.02716538,\n",
              "       6.6242652 , 7.40664041, 6.3596525 , 7.79749417, 8.04850322,\n",
              "       7.00440749, 8.63965373, 7.48749913, 7.36117506, 8.29735784,\n",
              "       7.34873703, 8.1261737 , 7.26520369, 6.43226691, 8.1392704 ,\n",
              "       5.30959374, 7.04028791, 6.9507404 , 6.46929151, 5.47235522,\n",
              "       7.75617989, 6.81270403, 8.0691346 , 6.82637571, 5.84740048,\n",
              "       5.57674879, 8.56822691, 8.59101975, 7.24412792, 7.64937428,\n",
              "       6.71145832, 8.40834257, 8.44411931, 8.42034426, 8.76506408,\n",
              "       6.94473793, 7.12481529, 7.80824091, 8.03576776, 8.41913353,\n",
              "       7.09646815, 8.7027636 , 8.17022391, 8.03776175, 8.41326313,\n",
              "       8.50233061, 7.18104783, 9.17098276, 6.03742863, 7.18104932,\n",
              "       7.17473403, 9.55460011, 7.47990572, 6.7276458 , 7.6587303 ,\n",
              "       6.66160158, 7.10636983, 7.18325919, 6.96670499, 7.57169694,\n",
              "       6.75728711, 7.63678323, 7.01533217, 7.88355613, 6.98482514,\n",
              "       7.13846117, 6.34488806, 7.67631006, 8.68802906, 6.27883046,\n",
              "       7.48440482, 7.68094189, 4.60162212, 4.83542285, 8.66734024])"
            ]
          },
          "execution_count": 39,
          "metadata": {},
          "output_type": "execute_result"
        }
      ],
      "source": [
        "#результаты опроса\n",
        "hse = np.random.normal(7.5, 1, 100)\n",
        "hse"
      ]
    },
    {
      "cell_type": "code",
      "execution_count": 50,
      "id": "9dfefdef",
      "metadata": {},
      "outputs": [
        {
          "data": {
            "text/plain": [
              "Index(['timestamp', 'district_name', 'district_id', 'lat', 'lon',\n",
              "       'n_taxi_start', 'n_taxi_end', 'n_carsharing_start', 'n_carsharing_end',\n",
              "       'temperature', 'precipitation', 'humidity', 'wind_speed',\n",
              "       'weather_code', 'rush_hour', 'season', 'is_holiday_or_weekend',\n",
              "       'quarter', 'station_load', 'number_of_stations', 'number_of_places',\n",
              "       'population_district_2023', 'population_near_metro', 'price_m2'],\n",
              "      dtype='object')"
            ]
          },
          "execution_count": 50,
          "metadata": {},
          "output_type": "execute_result"
        }
      ],
      "source": [
        "#import pandas as pd\n",
        "#df = pd.read_csv('/Users/matveybaksuk/Downloads/main_df.csv')\n",
        "\n",
        "#df.info()\n",
        "\n",
        "df['district_name'].unique()\n",
        "df.columns"
      ]
    },
    {
      "cell_type": "code",
      "execution_count": 37,
      "id": "5df2ab03-131e-4532-992d-066aad77d081",
      "metadata": {
        "id": "5df2ab03-131e-4532-992d-066aad77d081",
        "outputId": "1220cf54-3c98-46dd-f448-212a37002ec1"
      },
      "outputs": [
        {
          "data": {
            "text/plain": [
              "6.915489836511532"
            ]
          },
          "execution_count": 37,
          "metadata": {},
          "output_type": "execute_result"
        }
      ],
      "source": [
        "M = np.mean(hse)\n",
        "M #cреднее по выборке"
      ]
    },
    {
      "cell_type": "markdown",
      "id": "5acf2874-2150-4147-bf6f-991728732470",
      "metadata": {
        "id": "5acf2874-2150-4147-bf6f-991728732470"
      },
      "source": [
        "**1. Формулируем гипотезы**"
      ]
    },
    {
      "cell_type": "markdown",
      "id": "30e39625-18b3-4ea4-85c3-628187dd9f35",
      "metadata": {
        "id": "30e39625-18b3-4ea4-85c3-628187dd9f35"
      },
      "source": [
        "$$\n",
        "\\begin{aligned}\n",
        "&H_о: μ=7 \\\\\n",
        "&H_а: μ≠7\n",
        "\\end{aligned}\n",
        "$$"
      ]
    },
    {
      "cell_type": "markdown",
      "id": "bcbfcb5d-b5fe-49ed-98d3-eeecabc5c2d7",
      "metadata": {
        "id": "bcbfcb5d-b5fe-49ed-98d3-eeecabc5c2d7"
      },
      "source": [
        "**2. Выбираем уровень значимости и находим критические значения**"
      ]
    },
    {
      "cell_type": "markdown",
      "id": "0655c7f7-eede-491f-b326-1782b0b44e29",
      "metadata": {
        "id": "0655c7f7-eede-491f-b326-1782b0b44e29"
      },
      "source": [
        "$$α = 5\\% $$"
      ]
    },
    {
      "cell_type": "code",
      "execution_count": 34,
      "id": "ce4fc033-0c65-4165-9d24-47053738c876",
      "metadata": {
        "id": "ce4fc033-0c65-4165-9d24-47053738c876",
        "outputId": "60cf7b67-89a9-4da6-eb5b-7d95293a1de4"
      },
      "outputs": [
        {
          "name": "stdout",
          "output_type": "stream",
          "text": [
            "-1.9599639845400545 1.959963984540054\n"
          ]
        }
      ],
      "source": [
        "from scipy.stats import norm\n",
        "from scipy import stats\n",
        "\n",
        "alpha = 0.05\n",
        "\n",
        "print(norm.ppf(alpha/2),norm.ppf(1-alpha/2))"
      ]
    },
    {
      "cell_type": "markdown",
      "id": "27925f48-5e26-4c20-a225-6c997c9ff460",
      "metadata": {
        "id": "27925f48-5e26-4c20-a225-6c997c9ff460"
      },
      "source": [
        "![image.png](data:image/png;base64,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)"
      ]
    },
    {
      "cell_type": "markdown",
      "id": "29a1ab9b-dd4a-4b2c-9a5c-fd632302f2fa",
      "metadata": {
        "id": "29a1ab9b-dd4a-4b2c-9a5c-fd632302f2fa"
      },
      "source": [
        "**3. Считаем тестовую статистику**"
      ]
    },
    {
      "cell_type": "markdown",
      "id": "b63c077f-c999-4bdf-968c-20cc480571e9",
      "metadata": {
        "id": "b63c077f-c999-4bdf-968c-20cc480571e9"
      },
      "source": [
        "$$\n",
        "Z_{stat} = \\frac{M - \\mu}{\\sigma / \\sqrt{n}}\n",
        "$$"
      ]
    },
    {
      "cell_type": "code",
      "execution_count": 38,
      "id": "fffe371e-3c38-4475-9b48-95feb11699ab",
      "metadata": {
        "id": "fffe371e-3c38-4475-9b48-95feb11699ab",
        "outputId": "bebb9555-fee5-45f7-9064-1efe0dffbd48"
      },
      "outputs": [
        {
          "name": "stdout",
          "output_type": "stream",
          "text": [
            "Z-statistics = -0.924\n",
            " p-value = 0.356\n"
          ]
        }
      ],
      "source": [
        "from statsmodels.stats.weightstats import ztest as ztest\n",
        "# сгенерируем данные из нормального распределения с заданными параметрами\n",
        "# Z-тест:\n",
        "#   data - выборка\n",
        "#   value - значение нулевой гипотезы\n",
        "#   alternative - тип альтернативной гипотезы: 'two-sided', 'larger', 'smaller'\n",
        "\n",
        "result = ztest(hse, value = 7.0, alternative = 'two-sided')\n",
        "\n",
        "print(f'Z-statistics = {round(result[0],3)}\\\n",
        "\\n p-value = {round(result[1],3)}')"
      ]
    },
    {
      "cell_type": "markdown",
      "id": "09b2b562-5cbc-49a2-99a2-f011f7bb35ed",
      "metadata": {
        "id": "09b2b562-5cbc-49a2-99a2-f011f7bb35ed"
      },
      "source": [
        "**4. Сделать вывод**"
      ]
    },
    {
      "cell_type": "markdown",
      "id": "0c970b12-5b1c-4ba6-ad85-159f09c74015",
      "metadata": {
        "id": "0c970b12-5b1c-4ba6-ad85-159f09c74015"
      },
      "source": [
        "**Путь 1**. Сравнить Z-статистику с критическими значениями"
      ]
    },
    {
      "cell_type": "markdown",
      "id": "98af7d60-8d77-49cd-9a35-59cd81cfde97",
      "metadata": {
        "id": "98af7d60-8d77-49cd-9a35-59cd81cfde97"
      },
      "source": [
        "![image.png](data:image/png;base64,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)"
      ]
    },
    {
      "cell_type": "markdown",
      "id": "0e2f2a57-952b-440c-9d88-610c3e4af6b6",
      "metadata": {
        "id": "0e2f2a57-952b-440c-9d88-610c3e4af6b6"
      },
      "source": [
        "- Если Z-статистика попадает в диапазон от [-Z_кр;Z_кр], то гипотеза основная **принимается** на заданому уровне значимости\n",
        "- Если Z-статистика меньще -Z_кр или больше Z_кр, то гипотеза основная **отвергается** на заданом уровне значимости"
      ]
    },
    {
      "cell_type": "markdown",
      "id": "59fa1e48-710e-42d1-a989-a5378cb6f39d",
      "metadata": {
        "id": "59fa1e48-710e-42d1-a989-a5378cb6f39d"
      },
      "source": [
        "В нашем случае Z-статистикака не попадает в диапазон, а значит основная гипотеза отвергается. Значит мы не можем сказать, что в среднем люди спять 7 часов"
      ]
    },
    {
      "cell_type": "markdown",
      "id": "59c9d4e4-68b5-49dc-8ff8-c29fcd86987a",
      "metadata": {
        "id": "59c9d4e4-68b5-49dc-8ff8-c29fcd86987a"
      },
      "source": [
        "Путь 2. Через **p-value**\n",
        "\n",
        "p-value, интерпретируется так: на любом уровне значимости, большем чем это число, нулевая гипотеза отвергается:\n",
        "- Если уровень значимости **p-value** **больше** чем уровень значимости (**α**), то основная гипотеза **принимается**\n",
        "- Если уровень значимости **p-value** **меньше** чем уровень значимости (**α**), то основная гипотеза **отвергается**\n"
      ]
    },
    {
      "cell_type": "code",
      "execution_count": 30,
      "id": "ed46c1d3-4a8e-4ff2-9a51-dceff84fe623",
      "metadata": {
        "id": "ed46c1d3-4a8e-4ff2-9a51-dceff84fe623",
        "outputId": "6f8d200a-1f97-482a-e7c5-3d9e1aeed9ed"
      },
      "outputs": [
        {
          "data": {
            "text/plain": [
              "False"
            ]
          },
          "execution_count": 30,
          "metadata": {},
          "output_type": "execute_result"
        }
      ],
      "source": [
        "result[1] > alpha"
      ]
    },
    {
      "cell_type": "markdown",
      "id": "9c7f741a-a6f5-45f1-b05f-b20e20eb185c",
      "metadata": {
        "id": "9c7f741a-a6f5-45f1-b05f-b20e20eb185c"
      },
      "source": [
        "В нашем случае $p_{value}$ < $\\alpha$ -> **Основная гипотеза отвергается**"
      ]
    },
    {
      "cell_type": "markdown",
      "id": "4abe444b-d547-4813-b4d8-891bf0db1417",
      "metadata": {
        "id": "4abe444b-d547-4813-b4d8-891bf0db1417"
      },
      "source": [
        "#### **t-статистика**"
      ]
    },
    {
      "cell_type": "markdown",
      "id": "39dc364f-a596-47ad-9c79-2de38cbc1796",
      "metadata": {
        "id": "39dc364f-a596-47ad-9c79-2de38cbc1796"
      },
      "source": [
        "**Ограничения:**\n",
        "\n",
        "- неизвестна дисперсия по генеральной совокупности"
      ]
    },
    {
      "cell_type": "markdown",
      "id": "ebf52911-2f8a-45cf-9505-7f3dc13f9071",
      "metadata": {
        "id": "ebf52911-2f8a-45cf-9505-7f3dc13f9071"
      },
      "source": [
        "Вы спросили 100 своих одногруппников: Сколько в среднем они спят? На основе этих данных нужно проверить гипотезу о том, что люди в среднем спят 7 часов"
      ]
    },
    {
      "cell_type": "code",
      "execution_count": 28,
      "id": "45977a60-dd27-4780-8382-519b4aa67bc1",
      "metadata": {
        "id": "45977a60-dd27-4780-8382-519b4aa67bc1",
        "outputId": "7202a719-d20f-469c-8592-7c1fe9ecf674"
      },
      "outputs": [
        {
          "data": {
            "text/plain": [
              "array([6.50876921, 6.37809416, 8.24313325, 6.16063538, 7.12806853,\n",
              "       8.23873304, 7.52722238, 9.56908754, 7.66672499, 7.39755395,\n",
              "       7.13539052, 9.23908826, 7.11667229, 7.95560297, 7.06382571,\n",
              "       9.20917701, 8.24881398, 7.26548231, 7.13548104, 9.0983589 ,\n",
              "       7.16916766, 9.45795173, 6.63952992, 8.20243852, 5.66140629,\n",
              "       8.48812992, 7.67269371, 8.02753409, 7.13789984, 8.74422655,\n",
              "       6.25859371, 6.73398671, 7.3394661 , 9.12869296, 7.55415052,\n",
              "       6.05407729, 7.49692933, 8.18118691, 8.26232827, 8.24418382,\n",
              "       5.92261775, 6.7014274 , 5.88656409, 8.24769428, 7.07866935,\n",
              "       8.51640276, 7.22579455, 8.14603204, 6.72272469, 7.75475956,\n",
              "       6.42846564, 9.14787975, 6.19295895, 7.68183075, 7.43932292,\n",
              "       5.90486277, 6.4634526 , 7.43124701, 7.48723739, 8.39077637,\n",
              "       9.36108961, 7.74517864, 7.18510753, 5.40227866, 7.30140744,\n",
              "       7.55662022, 6.16786936, 9.41855751, 6.58301802, 7.31453452,\n",
              "       7.82523691, 7.05513808, 6.23995916, 8.5387278 , 6.91630762,\n",
              "       9.28336846, 8.42849133, 7.11636063, 8.9476095 , 6.98006066,\n",
              "       9.04937347, 7.00220651, 6.85767924, 6.96336537, 8.34689406,\n",
              "       6.97010895, 8.70728724, 9.26420732, 9.02549178, 9.95215749,\n",
              "       7.48074792, 8.96348531, 8.16126458, 7.45898755, 7.61468298,\n",
              "       7.37297292, 6.53702061, 7.7768996 , 6.4624089 , 8.47890882])"
            ]
          },
          "execution_count": 28,
          "metadata": {},
          "output_type": "execute_result"
        }
      ],
      "source": [
        "hse"
      ]
    },
    {
      "cell_type": "markdown",
      "id": "bee15f7a-4b1c-4632-8d8b-a5b12425e8be",
      "metadata": {
        "id": "bee15f7a-4b1c-4632-8d8b-a5b12425e8be"
      },
      "source": [
        "**1. Формулируем гипотезы**"
      ]
    },
    {
      "cell_type": "markdown",
      "id": "506c98f4-ed86-4764-9605-380e3f1607d5",
      "metadata": {
        "id": "506c98f4-ed86-4764-9605-380e3f1607d5"
      },
      "source": [
        "$$\n",
        "\\begin{aligned}\n",
        "&H_о: μ=7 \\\\\n",
        "&H_а: μ≠7\n",
        "\\end{aligned}\n",
        "$$"
      ]
    },
    {
      "cell_type": "markdown",
      "id": "b45601e7-30c4-40af-8e96-8a17ddf574d2",
      "metadata": {
        "id": "b45601e7-30c4-40af-8e96-8a17ddf574d2"
      },
      "source": [
        "**2. Выбираем уровень значимости**"
      ]
    },
    {
      "cell_type": "markdown",
      "id": "b11b3baa-38e4-43bd-af4e-746531861f26",
      "metadata": {
        "id": "b11b3baa-38e4-43bd-af4e-746531861f26"
      },
      "source": [
        "$$α = 5\\% $$"
      ]
    },
    {
      "cell_type": "code",
      "execution_count": 30,
      "id": "1adab513-66c1-49d3-afc6-be64169b83ee",
      "metadata": {
        "id": "1adab513-66c1-49d3-afc6-be64169b83ee"
      },
      "outputs": [],
      "source": [
        "alpha = 0.05"
      ]
    },
    {
      "cell_type": "markdown",
      "id": "OnDvbLwMX8Sd",
      "metadata": {
        "id": "OnDvbLwMX8Sd"
      },
      "source": [
        "**3. Считаем p-value**"
      ]
    },
    {
      "cell_type": "code",
      "execution_count": 39,
      "id": "21cb7847-dc4e-47df-9aa5-3b0a5986f753",
      "metadata": {
        "id": "21cb7847-dc4e-47df-9aa5-3b0a5986f753",
        "outputId": "e3d5238a-abf0-4df4-998d-a2c6a3ee12ba"
      },
      "outputs": [
        {
          "data": {
            "text/plain": [
              "Ttest_1sampResult(statistic=5.979983754432888, pvalue=3.552640205707792e-08)"
            ]
          },
          "execution_count": 39,
          "metadata": {},
          "output_type": "execute_result"
        }
      ],
      "source": [
        "#perform one sample t-test\n",
        "result = stats.ttest_1samp(a=hse, popmean=7, alternative='two-sided')\n",
        "result\n",
        "#'less', 'greater' or 'two-sided', по умолчанию - двусторонняя\n",
        "\n",
        "#3.552640205707792*10**(-8) == \n",
        "# 3.552640205707792/100000000"
      ]
    },
    {
      "cell_type": "code",
      "execution_count": 44,
      "id": "815276be",
      "metadata": {},
      "outputs": [
        {
          "data": {
            "text/plain": [
              "False"
            ]
          },
          "execution_count": 44,
          "metadata": {},
          "output_type": "execute_result"
        }
      ],
      "source": [
        "result.pvalue > alpha \n",
        "\n",
        "# если это даёт False:\n",
        "# следовательно, result.pvalue <= alpha, тогда:\n",
        "# H_0 отвергается, следовательно:\n",
        "# среднее количество часов сна не равно 7 ;)"
      ]
    },
    {
      "cell_type": "markdown",
      "id": "143325fa-13d9-4c9d-8eb2-2045c21f2433",
      "metadata": {
        "id": "143325fa-13d9-4c9d-8eb2-2045c21f2433"
      },
      "source": [
        "**4. Делаем вывод**"
      ]
    },
    {
      "cell_type": "code",
      "execution_count": 40,
      "id": "02a2fd16-4fbd-4a8f-9f8d-0a959b35399d",
      "metadata": {
        "id": "02a2fd16-4fbd-4a8f-9f8d-0a959b35399d",
        "outputId": "5314b0f9-42cf-4cc0-e080-a7ab39240292"
      },
      "outputs": [
        {
          "data": {
            "text/plain": [
              "False"
            ]
          },
          "execution_count": 40,
          "metadata": {},
          "output_type": "execute_result"
        }
      ],
      "source": [
        "result.pvalue > alpha"
      ]
    },
    {
      "cell_type": "markdown",
      "id": "e697ab65-5bd6-490e-97da-9d22dadf0165",
      "metadata": {
        "id": "e697ab65-5bd6-490e-97da-9d22dadf0165"
      },
      "source": [
        "В нашем случае p_value<α -> **Основная гипотеза отвергается**"
      ]
    },
    {
      "cell_type": "markdown",
      "id": "bbeacd7c-f101-46d0-ab2e-059358bbf68e",
      "metadata": {
        "id": "bbeacd7c-f101-46d0-ab2e-059358bbf68e"
      },
      "source": [
        "### Гипотеза о равенстве математических ожиданий двух выборок"
      ]
    },
    {
      "cell_type": "markdown",
      "id": "4a9df3d5-70b3-4612-9050-10d9900065ae",
      "metadata": {
        "id": "4a9df3d5-70b3-4612-9050-10d9900065ae"
      },
      "source": [
        "#### Выборки связаны"
      ]
    },
    {
      "cell_type": "markdown",
      "id": "ab7c1538-2d18-4ab2-8d74-683209ee3e71",
      "metadata": {
        "id": "ab7c1538-2d18-4ab2-8d74-683209ee3e71"
      },
      "source": [
        "Вы спросили 100 своих одногруппников до начала сессии сколько часов они спят, а затем тем же людям задали этот вопрос во время сессии. Вы хотите проверить гипотезу о том, что до сессии и во время студенты спят в среднем одинаковое количество часов"
      ]
    },
    {
      "cell_type": "code",
      "execution_count": 48,
      "id": "787ae419-92da-4de1-ba6d-f520c05966c5",
      "metadata": {
        "id": "787ae419-92da-4de1-ba6d-f520c05966c5",
        "outputId": "69260d3e-08ff-4039-a1e4-e323e76fa612"
      },
      "outputs": [
        {
          "data": {
            "text/plain": [
              "array([ 6.71365039,  8.20145637,  7.93821493,  7.82793433,  6.39619316,\n",
              "        8.07253596,  9.01496174,  8.19365531,  6.04083949,  8.03762119,\n",
              "        7.31506953,  5.80193573,  8.76845765,  7.86621105,  8.25358605,\n",
              "        6.44064455,  6.79123582,  7.75206222,  7.74456915,  7.73426626,\n",
              "        5.89144948,  7.55611088,  7.38164127,  6.54759658,  8.95925743,\n",
              "        6.65455706,  7.08608479,  7.85330467,  8.5981473 ,  7.05459062,\n",
              "        9.26604008,  8.78377888,  5.88769088,  8.03396537,  6.79550899,\n",
              "        7.25045896,  6.50895592,  6.57573658,  8.96887973,  6.50274551,\n",
              "        7.2375832 ,  6.78376739,  8.03773617,  6.57735169,  8.6445061 ,\n",
              "        6.73009992,  6.71895731,  6.27958218,  8.08304685,  8.1069305 ,\n",
              "        6.61923891,  7.59183935,  8.04714954, 11.08140493,  6.60880145,\n",
              "        7.69817754,  7.78097637,  5.47099594,  9.75090733,  6.44416735,\n",
              "        8.99937359,  6.21361   ,  7.95063907,  8.33141158,  6.0743797 ,\n",
              "        5.50485419,  7.99340493,  8.90280545,  6.72888877,  6.89115965,\n",
              "        5.70842391,  8.20817543,  7.24554673,  8.94128545,  7.52175237,\n",
              "        6.07875311,  6.37919569,  7.12152879,  6.00081213,  7.73739285,\n",
              "        7.8031816 ,  6.97855506,  7.80604741,  7.86682281,  7.40701597,\n",
              "        7.68351698,  8.72618617,  7.94766291,  7.33162672,  7.43886872,\n",
              "        5.80679107,  7.05905895,  6.97910956,  7.83685479,  7.42885401,\n",
              "        8.82328951,  6.53626121, 10.19612299,  5.75877661,  8.58198075])"
            ]
          },
          "execution_count": 48,
          "metadata": {},
          "output_type": "execute_result"
        }
      ],
      "source": [
        "before = np.random.normal(7.5, 1, 100)\n",
        "before"
      ]
    },
    {
      "cell_type": "code",
      "execution_count": 49,
      "id": "d5546050-4229-4cc2-a8e5-508f3521a35f",
      "metadata": {
        "id": "d5546050-4229-4cc2-a8e5-508f3521a35f",
        "outputId": "62e6c82d-9888-44ce-e484-7d367ee691de"
      },
      "outputs": [
        {
          "data": {
            "text/plain": [
              "array([7.93350535, 6.29415058, 7.96525863, 7.76792848, 6.03121007,\n",
              "       8.62312934, 8.0744303 , 7.87431729, 7.25205047, 5.83638401,\n",
              "       7.05507239, 7.06349327, 8.73537162, 8.96556669, 6.1151745 ,\n",
              "       8.20345584, 8.55906576, 8.84973286, 8.07182164, 5.96012661,\n",
              "       6.33623243, 6.08018767, 7.32828481, 6.84205005, 7.07316461,\n",
              "       8.43726308, 7.12000982, 6.9718856 , 6.24567222, 6.34583102,\n",
              "       6.46841433, 6.20730389, 7.73376969, 6.74328245, 5.44468372,\n",
              "       7.42271233, 7.55328311, 6.25045167, 6.34865597, 4.70936123,\n",
              "       7.66747619, 7.26492142, 6.44036991, 7.38497801, 7.68856575,\n",
              "       8.31809308, 6.02678473, 9.01295814, 6.21161255, 6.79556384,\n",
              "       9.01619311, 6.80388023, 6.84681087, 7.35373621, 6.41038749,\n",
              "       6.40060593, 6.22271815, 7.58362136, 7.52757866, 8.48375571,\n",
              "       8.25206871, 6.91582896, 6.7136934 , 8.73956207, 5.75684478,\n",
              "       8.41128839, 7.63394983, 7.3733595 , 6.01158638, 7.82649129,\n",
              "       6.66802836, 9.56581813, 5.64454988, 5.65796598, 7.52117121,\n",
              "       6.97262956, 7.21874933, 5.66241289, 7.22465013, 8.40988762,\n",
              "       8.61028129, 8.56549997, 5.91594176, 6.37887661, 8.0425851 ,\n",
              "       7.12592183, 6.35214709, 7.38942559, 8.23181688, 7.85775772,\n",
              "       6.67891373, 7.58321495, 5.95637015, 7.78038294, 7.441665  ,\n",
              "       6.83706335, 6.10570812, 7.84069874, 7.34628713, 6.76614162])"
            ]
          },
          "execution_count": 49,
          "metadata": {},
          "output_type": "execute_result"
        }
      ],
      "source": [
        "exam = np.random.normal(7.2, 1, 100)\n",
        "exam"
      ]
    },
    {
      "cell_type": "code",
      "execution_count": 53,
      "id": "68f4a854",
      "metadata": {},
      "outputs": [
        {
          "name": "stdout",
          "output_type": "stream",
          "text": [
            "7.19341592743828\n",
            "7.458847990813144\n"
          ]
        }
      ],
      "source": [
        "print(np.mean(exam))\n",
        "print(np.mean(before))"
      ]
    },
    {
      "cell_type": "markdown",
      "id": "2b2d0453-bfd9-4a96-98bb-bf0984a35a33",
      "metadata": {
        "id": "2b2d0453-bfd9-4a96-98bb-bf0984a35a33"
      },
      "source": [
        "**1. Формулируем гипотезы**"
      ]
    },
    {
      "cell_type": "markdown",
      "id": "2d747cc5-685b-480e-8144-0e69035c35e3",
      "metadata": {
        "id": "2d747cc5-685b-480e-8144-0e69035c35e3"
      },
      "source": [
        "$$\n",
        "\\begin{aligned}\n",
        "&H_о: μ_b=μ_e \\\\\n",
        "&H_а: μ_b≠μ_e\n",
        "\\end{aligned}\n",
        "$$"
      ]
    },
    {
      "cell_type": "markdown",
      "id": "PCWtiViF1oML",
      "metadata": {
        "id": "PCWtiViF1oML"
      },
      "source": [
        "**2. Выбираем уровень значимости**"
      ]
    },
    {
      "cell_type": "markdown",
      "id": "8dtxlj351oML",
      "metadata": {
        "id": "8dtxlj351oML"
      },
      "source": [
        "$$α = 5\\% $$"
      ]
    },
    {
      "cell_type": "code",
      "execution_count": 54,
      "id": "fdh1Sj48rr5I",
      "metadata": {
        "id": "fdh1Sj48rr5I"
      },
      "outputs": [],
      "source": [
        "alpha = 0.05"
      ]
    },
    {
      "cell_type": "markdown",
      "id": "ESvf-jHe2kV2",
      "metadata": {
        "id": "ESvf-jHe2kV2"
      },
      "source": [
        "**3. Считаем p-value**"
      ]
    },
    {
      "cell_type": "markdown",
      "id": "B8HUT4Gx2kV2",
      "metadata": {
        "id": "B8HUT4Gx2kV2"
      },
      "source": [
        "Находим критические значения:"
      ]
    },
    {
      "cell_type": "code",
      "execution_count": 55,
      "id": "hqSxG9t62kV2",
      "metadata": {
        "colab": {
          "base_uri": "https://localhost:8080/"
        },
        "id": "hqSxG9t62kV2",
        "outputId": "8f686cfd-40f5-4a0d-f328-a386ea577430"
      },
      "outputs": [
        {
          "data": {
            "text/plain": [
              "Ttest_relResult(statistic=1.852174206936979, pvalue=0.06698050318154193)"
            ]
          },
          "execution_count": 55,
          "metadata": {},
          "output_type": "execute_result"
        }
      ],
      "source": [
        "result = stats.ttest_rel(before, exam)\n",
        "result"
      ]
    },
    {
      "cell_type": "markdown",
      "id": "FOQ7uN_f2kV2",
      "metadata": {
        "id": "FOQ7uN_f2kV2"
      },
      "source": [
        "**4. Делаем вывод**"
      ]
    },
    {
      "cell_type": "code",
      "execution_count": 56,
      "id": "jgTvz3Et2kV2",
      "metadata": {
        "colab": {
          "base_uri": "https://localhost:8080/"
        },
        "id": "jgTvz3Et2kV2",
        "outputId": "b45f7b4a-8f0c-4e6b-f5a4-23f5f34a603a"
      },
      "outputs": [
        {
          "data": {
            "text/plain": [
              "True"
            ]
          },
          "execution_count": 56,
          "metadata": {},
          "output_type": "execute_result"
        }
      ],
      "source": [
        "result.pvalue > alpha"
      ]
    },
    {
      "cell_type": "markdown",
      "id": "gVexQ4N72kV2",
      "metadata": {
        "id": "gVexQ4N72kV2"
      },
      "source": [
        "В нашем случае p_value>α -> **Основная гипотеза принимается**"
      ]
    },
    {
      "cell_type": "markdown",
      "id": "wispB3iR7e_Z",
      "metadata": {
        "id": "wispB3iR7e_Z"
      },
      "source": [
        "#### Выборки не связаны"
      ]
    },
    {
      "cell_type": "markdown",
      "id": "t3xOGsj_7e_Z",
      "metadata": {
        "id": "t3xOGsj_7e_Z"
      },
      "source": [
        "Вы спросили 100 студентов Вышки и 100 студентов Плехановки сколько часов они спят. Вы хотите проверить гипотезу о том, что студенты Вышки и Плехановки спят в среднем одинаковое количество часов"
      ]
    },
    {
      "cell_type": "code",
      "execution_count": 58,
      "id": "DzfTbR4v7e_Z",
      "metadata": {
        "colab": {
          "base_uri": "https://localhost:8080/"
        },
        "id": "DzfTbR4v7e_Z",
        "outputId": "f55eb16b-c798-4eec-a07d-d177e92ed06c"
      },
      "outputs": [
        {
          "data": {
            "text/plain": [
              "array([ 6.7581916 ,  5.86981462,  8.00584955,  7.6866628 ,  8.90909028,\n",
              "        7.67794942,  6.06846608,  6.84891488,  6.21870854,  8.36788946,\n",
              "        7.52328518,  6.64055281,  6.4065292 ,  7.15827179,  5.4706595 ,\n",
              "        8.04045256,  6.28191391,  7.2839394 ,  7.64528636,  6.32443342,\n",
              "        9.2435768 ,  8.98142463,  8.33739133,  8.96219707,  8.30518448,\n",
              "        7.16060446,  8.60028244,  8.88742223,  6.61121879,  5.71286302,\n",
              "        7.39891183,  6.5059802 ,  9.48049256,  6.24001859,  7.20924276,\n",
              "       10.21193093,  7.25448891,  8.18139057,  6.99403247,  8.23586484,\n",
              "        6.17966277,  5.50251059,  7.57512973,  8.15654857,  7.5620693 ,\n",
              "        7.45276706,  6.7012459 ,  7.45370975,  8.71607354,  6.57737753,\n",
              "        7.48920182,  8.53572594,  5.19385125,  6.47365567,  9.77692474,\n",
              "        8.03836698,  8.12388148,  6.52184925,  6.86958935,  8.11507615,\n",
              "        7.75398796,  8.50247801,  7.93724048,  7.70293891,  7.45372404,\n",
              "        8.478339  ,  8.90376698,  7.35472045,  7.35371672,  6.16263703,\n",
              "       10.62428971,  5.9615951 ,  7.52546267,  6.18311539,  7.857104  ,\n",
              "        6.87596785,  7.67632344,  8.32046603,  8.81035523,  8.52559062,\n",
              "        7.24859619,  7.22110671,  9.30964422,  6.99416084,  9.28778599,\n",
              "        8.29485729,  8.42792776,  8.6862235 ,  8.67938885,  5.80720332,\n",
              "        6.91749089,  7.15327866,  6.92549118, 10.61274908,  7.45456572,\n",
              "        7.06898504,  6.00544542,  8.10951404,  5.36709118,  8.57282129])"
            ]
          },
          "execution_count": 58,
          "metadata": {},
          "output_type": "execute_result"
        }
      ],
      "source": [
        "hse = np.random.normal(7.5, 1, 100)\n",
        "hse"
      ]
    },
    {
      "cell_type": "code",
      "execution_count": 59,
      "id": "_ncsWLgh7e_Z",
      "metadata": {
        "colab": {
          "base_uri": "https://localhost:8080/"
        },
        "id": "_ncsWLgh7e_Z",
        "outputId": "a8be4406-d530-48af-ea63-540c5fd5d08d"
      },
      "outputs": [
        {
          "data": {
            "text/plain": [
              "array([ 7.41930186,  5.37339839,  7.11594483, 10.01544197,  7.45592018,\n",
              "        4.86193816,  7.50830423,  6.31762427,  7.4766036 ,  6.65479146,\n",
              "        6.26387322,  6.8998019 ,  6.52169411,  8.54162142,  8.92014136,\n",
              "        7.463227  ,  7.04570681,  7.88565038,  7.07817469,  5.0959118 ,\n",
              "        5.96616277,  8.1179437 ,  6.85016513,  5.80837707,  8.85862227,\n",
              "        7.00986354,  6.35436815,  6.52299716,  6.03331385,  7.0856435 ,\n",
              "        5.56289853,  6.09387854,  7.01582131,  7.64917758,  7.22634595,\n",
              "        6.21499201,  7.65492044,  6.4765365 ,  6.6516341 ,  4.89211482,\n",
              "        8.06088444,  7.59955682,  7.78270761,  8.63660913,  6.49196572,\n",
              "        8.29735624,  7.67270977,  7.84357927,  5.90143149,  5.60579603,\n",
              "        8.72051392,  6.80868168,  6.83548477,  6.21910276,  5.64099574,\n",
              "        7.32993648,  9.20579667,  8.02535543,  6.80370404,  7.85552841,\n",
              "        7.51716603,  6.97220213,  7.55776069,  8.25426202,  5.67548563,\n",
              "        7.82895234,  8.11921852,  7.77107569,  7.39754778,  5.06964425,\n",
              "        8.67210823,  9.41855574,  6.51066704,  6.22572602,  6.64455234,\n",
              "        5.22549373,  8.05242292,  6.81203805,  6.75166621,  7.49918869,\n",
              "        5.40218725,  7.90102405,  9.06259558, 10.80077454,  6.54491567,\n",
              "        5.00096992,  6.853752  ,  5.70764712,  5.75437192,  6.92709896,\n",
              "        7.04790411,  5.91732411,  6.75558816,  8.97222869,  5.46635283,\n",
              "        8.41905343,  7.10491665,  6.63744487,  8.82534838,  7.26352852])"
            ]
          },
          "execution_count": 59,
          "metadata": {},
          "output_type": "execute_result"
        }
      ],
      "source": [
        "pleh = np.random.normal(7.1, 1.1, 100)\n",
        "pleh"
      ]
    },
    {
      "cell_type": "markdown",
      "id": "sbnV7Ga27e_Z",
      "metadata": {
        "id": "sbnV7Ga27e_Z"
      },
      "source": [
        "**1. Формулируем гипотезы**"
      ]
    },
    {
      "cell_type": "markdown",
      "id": "22iWq_9J7e_Z",
      "metadata": {
        "id": "22iWq_9J7e_Z"
      },
      "source": [
        "$$\n",
        "\\begin{aligned}\n",
        "&H_о: μ_h=μ_p \\\\\n",
        "&H_а: μ_h≠μ_p\n",
        "\\end{aligned}\n",
        "$$"
      ]
    },
    {
      "cell_type": "markdown",
      "id": "NkQs1xAG7e_Z",
      "metadata": {
        "id": "NkQs1xAG7e_Z"
      },
      "source": [
        "**2. Выбираем уровень значимости**"
      ]
    },
    {
      "cell_type": "markdown",
      "id": "TTsOc7Cc7e_Z",
      "metadata": {
        "id": "TTsOc7Cc7e_Z"
      },
      "source": [
        "$$α = 5\\% $$"
      ]
    },
    {
      "cell_type": "code",
      "execution_count": 60,
      "id": "0D31nRW57e_Z",
      "metadata": {
        "id": "0D31nRW57e_Z"
      },
      "outputs": [],
      "source": [
        "alpha = 0.05"
      ]
    },
    {
      "cell_type": "markdown",
      "id": "Zd-AkAhf7e_Z",
      "metadata": {
        "id": "Zd-AkAhf7e_Z"
      },
      "source": [
        "**3. Считаем p-value**"
      ]
    },
    {
      "cell_type": "markdown",
      "id": "quOD4nAi9Gf3",
      "metadata": {
        "id": "quOD4nAi9Gf3"
      },
      "source": [
        "t - критерий:"
      ]
    },
    {
      "cell_type": "markdown",
      "id": "JTnp4A-V9Ah3",
      "metadata": {
        "id": "JTnp4A-V9Ah3"
      },
      "source": [
        "\n",
        "\\begin{align}\n",
        "t = \\frac{(M_1 - M_2) - (\\mu_1 - \\mu_2)}{s_{(M_1 - M_2)}}\n",
        "\\end{align}\n"
      ]
    },
    {
      "cell_type": "markdown",
      "id": "2TLynV8n-gF3",
      "metadata": {
        "id": "2TLynV8n-gF3"
      },
      "source": [
        "В знаменателе приведенной формулы находится стандартная ошибка разницы между выборочными средними, которая в общем виде рассчитывается как"
      ]
    },
    {
      "cell_type": "markdown",
      "id": "BRZrhPMR-iJX",
      "metadata": {
        "id": "BRZrhPMR-iJX"
      },
      "source": [
        "\\begin{align}\n",
        "s_{(M_1 - M_2)} = \\sqrt{\\frac{s^2_1}{n_1} + \\frac{s^2_2}{n_2}}\n",
        "\\end{align}"
      ]
    },
    {
      "cell_type": "code",
      "execution_count": 67,
      "id": "uhGatZU17e_Z",
      "metadata": {
        "colab": {
          "base_uri": "https://localhost:8080/"
        },
        "id": "uhGatZU17e_Z",
        "outputId": "2193bb90-1156-476a-8edc-da6447f2203c"
      },
      "outputs": [
        {
          "data": {
            "text/plain": [
              "Ttest_indResult(statistic=2.8656902083606433, pvalue=0.004610496026227826)"
            ]
          },
          "execution_count": 67,
          "metadata": {},
          "output_type": "execute_result"
        }
      ],
      "source": [
        "result = stats.ttest_ind(a=hse, b=pleh, equal_var=True)\n",
        "result"
      ]
    },
    {
      "cell_type": "markdown",
      "id": "V36hfmXX7e_Z",
      "metadata": {
        "id": "V36hfmXX7e_Z"
      },
      "source": [
        "**4. Делаем вывод**"
      ]
    },
    {
      "cell_type": "code",
      "execution_count": 68,
      "id": "S7xrjjMu7e_Z",
      "metadata": {
        "colab": {
          "base_uri": "https://localhost:8080/"
        },
        "id": "S7xrjjMu7e_Z",
        "outputId": "93895c74-c0a8-43d0-e4f1-f947ac4c8614"
      },
      "outputs": [
        {
          "data": {
            "text/plain": [
              "False"
            ]
          },
          "execution_count": 68,
          "metadata": {},
          "output_type": "execute_result"
        }
      ],
      "source": [
        "result.pvalue > alpha"
      ]
    },
    {
      "cell_type": "markdown",
      "id": "gekW0FJm7e_a",
      "metadata": {
        "id": "gekW0FJm7e_a"
      },
      "source": [
        "В нашем случае p_value>α -> **Основная гипотеза отвергается**"
      ]
    },
    {
      "cell_type": "markdown",
      "id": "qVemg3sPO0d8",
      "metadata": {
        "id": "qVemg3sPO0d8"
      },
      "source": [
        "## **B2**"
      ]
    },
    {
      "cell_type": "markdown",
      "id": "Hnha0ys5O8g9",
      "metadata": {
        "id": "Hnha0ys5O8g9"
      },
      "source": [
        "Ниже приведены данные об уровнях осадков в двух различных регионах России, измеренные за одинаковые промежутки времени.\n",
        "\n",
        "Предполагая, что все необходимые предпосылки выполнены, дисперсии генеральных совокупностей равны, а выборки независимы, проверьте гипотезу о равенстве средних уровней осадков (𝐻0:𝜇1=𝜇2\n",
        ") при помощи T-теста на уровне значимости 5%. Выберите верное утверждение.\n",
        "\n",
        "\n",
        "Регион 1: [105.99, 101.02, 102.83, 103.73, 103.25, 107.59, 105.80, 108.34, 103.98, 102.31].\n",
        "\n",
        "Регион 2: [105.47, 105.28, 105.53, 104.04, 104.85, 104.21, 106.02, 104.54, 103.93, 105.38].\n",
        "\n",
        "Выберите один ответ:\n",
        "\n",
        "- Основная гипотеза не отвергается.\n",
        "\n",
        "\n",
        "- Основная гипотеза отвергается."
      ]
    },
    {
      "cell_type": "code",
      "execution_count": 78,
      "id": "SOCE23Tlvozs",
      "metadata": {
        "id": "SOCE23Tlvozs"
      },
      "outputs": [
        {
          "data": {
            "text/plain": [
              "Ttest_indResult(statistic=-0.5643554474040218, pvalue=0.5794774673417524)"
            ]
          },
          "execution_count": 78,
          "metadata": {},
          "output_type": "execute_result"
        }
      ],
      "source": [
        "import numpy as np\n",
        "from scipy.stats import ttest_ind as ttest_ind\n",
        "reg1 = [105.99, 101.02, 102.83, 103.73, 103.25, 107.59, 105.80, 108.34, 103.98, 102.31] #регион 1\n",
        "reg2 = [105.47, 105.28, 105.53, 104.04, 104.85, 104.21, 106.02, 104.54, 103.93, 105.38] #регион 2 \n",
        "\n",
        "result = ttest_ind(a=reg1,\n",
        "                   b=reg2,\n",
        "                   equal_var=True\n",
        "                   )\n",
        "result"
      ]
    },
    {
      "cell_type": "code",
      "execution_count": 80,
      "id": "45zbIfux09TH",
      "metadata": {
        "id": "45zbIfux09TH"
      },
      "outputs": [
        {
          "data": {
            "text/plain": [
              "True"
            ]
          },
          "execution_count": 80,
          "metadata": {},
          "output_type": "execute_result"
        }
      ],
      "source": [
        "alpha = 0.05 #уровень значимости\n",
        "result.pvalue > alpha"
      ]
    }
  ],
  "metadata": {
    "colab": {
      "provenance": []
    },
    "kernelspec": {
      "display_name": "Python 3 (ipykernel)",
      "language": "python",
      "name": "python3"
    },
    "language_info": {
      "codemirror_mode": {
        "name": "ipython",
        "version": 3
      },
      "file_extension": ".py",
      "mimetype": "text/x-python",
      "name": "python",
      "nbconvert_exporter": "python",
      "pygments_lexer": "ipython3",
      "version": "3.12.2"
    }
  },
  "nbformat": 4,
  "nbformat_minor": 5
}
